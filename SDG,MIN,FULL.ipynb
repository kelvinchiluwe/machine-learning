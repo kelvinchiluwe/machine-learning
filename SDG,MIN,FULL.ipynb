{
 "cells": [
  {
   "cell_type": "code",
   "execution_count": 1,
   "id": "7e378048-f3c6-491a-aaed-2b5fa534ebe2",
   "metadata": {},
   "outputs": [],
   "source": [
    "import  pandas as pd\n",
    "import numpy as np\n",
    "import matplotlib.pyplot as plt"
   ]
  },
  {
   "cell_type": "code",
   "execution_count": 2,
   "id": "8ff0bbc7-575e-43ff-ba2b-8943fdedad6f",
   "metadata": {},
   "outputs": [],
   "source": [
    "data=pd.read_csv('housing.csv')\n"
   ]
  },
  {
   "cell_type": "code",
   "execution_count": 3,
   "id": "0d742e3c-8d94-4cb6-8924-e19bd6a28091",
   "metadata": {},
   "outputs": [],
   "source": [
    "h=data.dropna(subset='total_bedrooms')"
   ]
  },
  {
   "cell_type": "code",
   "execution_count": 4,
   "id": "7690980d-3cb0-422e-877a-8af64adef369",
   "metadata": {},
   "outputs": [],
   "source": [
    "X=h[['median_income','housing_median_age','total_rooms','total_bedrooms']].values\n",
    "y=h['median_house_value'].values\n",
    "X=(X-X.mean())/X.std()"
   ]
  },
  {
   "cell_type": "code",
   "execution_count": 5,
   "id": "e19ceaea-8e66-4930-be8d-e38ab0e60a8b",
   "metadata": {},
   "outputs": [],
   "source": [
    "def impute_loss(X,y,weight,bias):\n",
    "    prediction= X @ weight + bias\n",
    "    return np.mean((prediction - y.shape)**2)"
   ]
  },
  {
   "cell_type": "code",
   "execution_count": 19,
   "id": "d3d5b602-a248-49fd-a228-7d5a1f11e021",
   "metadata": {},
   "outputs": [],
   "source": [
    "def hyperparameter_gd(X_batch,y_batch,weight,bias,learning_rate=0.00001):\n",
    "\n",
    "    predictions=X_batch @ weight + bias\n",
    "    error=np.mean((predictions - y_batch)**2)\n",
    "    \n",
    "    m = len(X_batch)\n",
    "    predictions = X_batch @ weight + bias\n",
    "    error = predictions - y_batch\n",
    "\n",
    "    gradient_weight = (2/m)*(X_batch.T @ error)\n",
    "    gradient_bias = (2/m) * np.sum(error)\n",
    "\n",
    "    weight -= learning_rate * gradient_weight\n",
    "    bias -= learning_rate * gradient_bias\n",
    "\n",
    "    return weight, bias"
   ]
  },
  {
   "cell_type": "code",
   "execution_count": 20,
   "id": "e96ff38d-905d-44fd-9494-c08ee18a79e4",
   "metadata": {},
   "outputs": [],
   "source": [
    "def train(X,y,learning_rate,Epochs,batch_size):\n",
    "    np.random.seed(42)\n",
    "    weight = np.random.randn(X.shape[1])*0.001  \n",
    "\n",
    "    bias=np.random.randn()*0.001\n",
    "    loss_history=[]\n",
    "    for i in range(Epochs):\n",
    "        # indeces=np.arange(len(y))\n",
    "        indeces  = np.random.permutation(len(y))\n",
    "        X_full=X[indeces]\n",
    "        y_full=y[indeces]\n",
    "        for i in range(i,len(y),batch_size):\n",
    "            X_batch=X_full[i:i+batch_size]\n",
    "            y_batch=y_full[i:i+batch_size]\n",
    "            weight,bias=hyperparameter_gd(X_batch,y_batch,weight,bias,learning_rate)\n",
    "            loss=impute_loss(X,y,weight,bias)\n",
    "            loss_history.append(loss)\n",
    "    return loss_history"
   ]
  },
  {
   "cell_type": "code",
   "execution_count": null,
   "id": "3efc2341-47d4-46cc-bdaf-2cdd64b5bfe0",
   "metadata": {},
   "outputs": [],
   "source": [
    "# h=train_md_full_batch(X,y,learning_rate=0.001)\n",
    "# X=(X-X.mean()) / X.std()\n",
    "# full_batch_L=train(X,y,learning_rate=0.001,Epochs=1000,batch_size=len(X))\n",
    "# X=(X-X.mean()) / X.std()\n",
    "min_batch_L=train(X,y,0.1,1000,30)\n",
    "bsd_L=train(X,y,0.001,1000,1)\n",
    "# print(full_batch_L)\n",
    "# =train(X,y,0.001,1000,)\n",
    "print(min_batch_L)\n",
    "# print(bsd_L)"
   ]
  },
  {
   "cell_type": "code",
   "execution_count": null,
   "id": "ee4d0e9d-2b1c-461a-99dd-c1b14d6552b2",
   "metadata": {},
   "outputs": [],
   "source": [
    "plt.figure(figsize=(12,5))\n",
    "plt.plot(min_batch_L,label='min_batch_L',color='blue')\n",
    "plt.plot(bsd_L,label='bsd_L',color='green')\n",
    "# plt.plot(high,label='lr 0.001',color='red')\n",
    "plt.xlabel('Epochs')\n",
    "plt.ylabel('loss_history')\n",
    "plt.title('loss curve')\n",
    "plt.grid(True)\n",
    "plt.legend()\n",
    "plt.show()"
   ]
  },
  {
   "cell_type": "code",
   "execution_count": null,
   "id": "8946ca70-7c35-4874-8376-8a5a603b0c71",
   "metadata": {},
   "outputs": [],
   "source": []
  }
 ],
 "metadata": {
  "kernelspec": {
   "display_name": "Python 3 (ipykernel)",
   "language": "python",
   "name": "python3"
  },
  "language_info": {
   "codemirror_mode": {
    "name": "ipython",
    "version": 3
   },
   "file_extension": ".py",
   "mimetype": "text/x-python",
   "name": "python",
   "nbconvert_exporter": "python",
   "pygments_lexer": "ipython3",
   "version": "3.13.2"
  }
 },
 "nbformat": 4,
 "nbformat_minor": 5
}
