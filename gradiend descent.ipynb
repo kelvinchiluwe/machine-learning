{
 "cells": [
  {
   "cell_type": "code",
   "execution_count": 2,
   "id": "c1665b4f",
   "metadata": {},
   "outputs": [],
   "source": [
    "import numpy as np\n",
    "import pandas as pd"
   ]
  },
  {
   "cell_type": "code",
   "execution_count": 3,
   "id": "a06363d6",
   "metadata": {},
   "outputs": [],
   "source": [
    "data = {  \n",
    "    \"distance_km\": [\"50km\", \"100km\", \"150km\", \"200km\", \"250km\", \"300km\", \"350km\", \"400km\", \"450km\", \"500km\"],  \n",
    "    \"fuel_liters\": [\"2.5lt\", \"5lt\", \"7.5lt\", \"10lt\", \"12.5lt\", \"\", \"17.5lt\", \"\", \"22.5lt\", \"25lt\"]  \n",
    "} "
   ]
  },
  {
   "cell_type": "code",
   "execution_count": 4,
   "id": "b211735d",
   "metadata": {},
   "outputs": [],
   "source": [
    "df = pd.DataFrame(data)"
   ]
  },
  {
   "cell_type": "code",
   "execution_count": 5,
   "id": "867bf543",
   "metadata": {},
   "outputs": [
    {
     "name": "stdout",
     "output_type": "stream",
     "text": [
      "Cleaned Data:\n",
      "   distance_km  fuel_liters\n",
      "0         50.0          2.5\n",
      "1        100.0          5.0\n",
      "2        150.0          7.5\n",
      "3        200.0         10.0\n",
      "4        250.0         12.5\n",
      "6        350.0         17.5\n",
      "8        450.0         22.5\n",
      "9        500.0         25.0\n"
     ]
    }
   ],
   "source": [
    "df[\"distance_km\"] = df[\"distance_km\"].str.replace(\"km\", \"\").astype(float)  \n",
    "df[\"fuel_liters\"] = df[\"fuel_liters\"].str.replace(\"lt\", \"\").replace(\"\", np.nan).astype(float)   \n",
    "df = df.dropna()   \n",
    "print(\"Cleaned Data:\")  \n",
    "print(df)  "
   ]
  },
  {
   "cell_type": "code",
   "execution_count": 6,
   "id": "f4689110",
   "metadata": {},
   "outputs": [],
   "source": [
    "from sklearn.linear_model import LinearRegression"
   ]
  },
  {
   "cell_type": "code",
   "execution_count": 16,
   "id": "c7d7672e",
   "metadata": {},
   "outputs": [],
   "source": [
    "# print(X)"
   ]
  },
  {
   "cell_type": "code",
   "execution_count": 17,
   "id": "aea42fdb",
   "metadata": {},
   "outputs": [],
   "source": [
    "# print(len(X))"
   ]
  },
  {
   "cell_type": "code",
   "execution_count": 9,
   "id": "ca135710",
   "metadata": {},
   "outputs": [
    {
     "name": "stdout",
     "output_type": "stream",
     "text": [
      "\n",
      "Predicted fuel consumption for 300 km: 15.00 liters\n"
     ]
    },
    {
     "name": "stderr",
     "output_type": "stream",
     "text": [
      "C:\\Users\\Student.DESK-13\\AppData\\Local\\Programs\\Python\\Python313\\Lib\\site-packages\\sklearn\\utils\\validation.py:2732: UserWarning: X has feature names, but LinearRegression was fitted without feature names\n",
      "  warnings.warn(\n"
     ]
    }
   ],
   "source": [
    "X = df[[\"distance_km\"]].values  \n",
    "y = df[\"fuel_liters\"].values\n",
    "\n",
    "model = LinearRegression()  \n",
    "model.fit(X, y)  \n",
    "  \n",
    "new_distance = pd.DataFrame({\"distance_km\": [300]})  \n",
    "predicted_fuel = model.predict(new_distance)[0]  \n",
    "print(f\"\\nPredicted fuel consumption for 300 km: {predicted_fuel:.2f} liters\")  "
   ]
  },
  {
   "cell_type": "code",
   "execution_count": 10,
   "id": "c81c2b63",
   "metadata": {},
   "outputs": [],
   "source": [
    "def compute_loss(weight,bias,features,actual_value):\n",
    "    predictions = weight*features +bias\n",
    "    return np.mean((actual_value-predictions)**2)"
   ]
  },
  {
   "cell_type": "code",
   "execution_count": 11,
   "id": "b7ed310f",
   "metadata": {},
   "outputs": [],
   "source": [
    "def gradient_descent_step(weight, bias,features,actual_value, learning_rate=0.0001):\n",
    "    m = len(features)\n",
    "    predictions = weight*features +bias\n",
    "    loss =  actual_value - predictions\n",
    "\n",
    "    ##compute gradients\n",
    "    gradient_weight = (2/m) * np.sum(loss * features)\n",
    "    gradient_bias = (2/m) * np.sum(loss)\n",
    "\n",
    "    weight -= learning_rate * gradient_weight\n",
    "    bias -= learning_rate * gradient_bias\n",
    "    return weight, bias\n"
   ]
  },
  {
   "cell_type": "code",
   "execution_count": 12,
   "id": "bcf8b7b2",
   "metadata": {},
   "outputs": [],
   "source": [
    "np.random.seed(42)\n",
    "weight = np.random.rand()\n",
    "bias = np.random.rand()\n",
    "\n",
    "\n",
    "loss_history =[]\n",
    "iterations = 70\n",
    "learning_rate = 0.0001\n",
    "\n",
    "for _ in range(iterations):\n",
    "    weight,bias = gradient_descent_step(weight,bias,X,y, learning_rate)\n",
    "    loss = compute_loss(weight, bias, X,y)\n",
    "    loss_history.append(loss)"
   ]
  },
  {
   "cell_type": "code",
   "execution_count": 13,
   "id": "a68d5449",
   "metadata": {},
   "outputs": [
    {
     "name": "stdout",
     "output_type": "stream",
     "text": [
      "loss hoistory is  [np.float64(212527012.911026), np.float64(4376479368657.5537), np.float64(9.01230389855162e+16), np.float64(1.8558666617577464e+21), np.float64(3.8217098590931615e+25), np.float64(7.869889873045408e+29), np.float64(1.6206140418142313e+34), np.float64(3.337263818037552e+38), np.float64(6.872290072665704e+42), np.float64(1.4151824194298131e+47), np.float64(2.9142269303053066e+51), np.float64(6.001147615116969e+55), np.float64(1.23579163736062e+60), np.float64(2.544814873614263e+64), np.float64(5.240432565800387e+68), np.float64(1.07914071712801e+73), np.float64(2.2222300787982605e+77), np.float64(4.576146970210123e+81), np.float64(9.423471175535457e+85), np.float64(1.9405366474073286e+90), np.float64(3.996067276893754e+94), np.float64(8.228936929790014e+98), np.float64(1.6945511249524999e+103), np.float64(3.4895194112893253e+107), np.float64(7.185823751470656e+111), np.float64(1.4797471199084432e+116), np.float64(3.0471823615618125e+120), np.float64(6.274937264407679e+124), np.float64(1.2921720133635464e+129), np.float64(2.660916662212418e+133), np.float64(5.479516202188181e+137), np.float64(1.1283742266876728e+142), np.float64(2.323614619379269e+146), np.float64(4.7849239832801736e+150), np.float64(9.853397088664433e+154), np.float64(2.029069521818061e+159), np.float64(4.1783793825861387e+163), np.float64(8.604364748023844e+167), np.float64(1.7718614309075172e+172), np.float64(3.6487213435003186e+176), np.float64(7.513661740295339e+180), np.float64(1.5472574480960248e+185), np.float64(3.186203602764956e+189), np.float64(6.561217986550839e+193), np.float64(1.3511246246059175e+198), np.float64(2.782315349007552e+202), np.float64(5.729507523098329e+206), np.float64(1.1798539108426292e+211), np.float64(2.4296246148881383e+215), np.float64(5.0032260053742336e+219), np.float64(1.0302937460981195e+224), np.float64(2.1216415211079347e+228), np.float64(4.3690090919570685e+232), np.float64(8.996920665294825e+236), np.float64(1.8526988558256924e+241), np.float64(3.8151865266729566e+245), np.float64(7.856456642987366e+249), np.float64(1.6178477920178337e+254), np.float64(3.331567393645946e+258), np.float64(6.860559660288795e+262), np.float64(1.4127668238724468e+267), np.float64(2.9092525937608766e+271), np.float64(5.990904168534287e+275), np.float64(1.2336822465513119e+280), np.float64(2.540471091909073e+284), np.float64(5.231487594854711e+288), np.float64(1.077298716064205e+293), np.float64(2.218436921794547e+297), np.float64(4.568335878057387e+301), np.float64(9.407386114843579e+305)]\n"
     ]
    }
   ],
   "source": [
    "print(f\"loss hoistory is  {loss_history}\")"
   ]
  },
  {
   "cell_type": "code",
   "execution_count": 14,
   "id": "62033523",
   "metadata": {},
   "outputs": [],
   "source": [
    "import matplotlib.pyplot as plt"
   ]
  },
  {
   "cell_type": "code",
   "execution_count": 15,
   "id": "e284a339",
   "metadata": {},
   "outputs": [
    {
     "data": {
      "image/png": "[encoded data removed]",
      "text/plain": [
       "<Figure size 1200x400 with 2 Axes>"
      ]
     },
     "metadata": {},
     "output_type": "display_data"
    }
   ],
   "source": [
    "plt.figure(figsize=(12,4))\n",
    "plt.subplot(1,2,1)\n",
    "plt.plot(range(iterations), loss_history, color='orange')\n",
    "plt.title('Loss Curve')\n",
    "plt.xlabel(\"Iterations\")\n",
    "plt.ylabel(\"MSE LOSS\")\n",
    "\n",
    "plt.subplot(1, 2, 2)\n",
    "plt.scatter(X, y, label=\"Data\")\n",
    "plt.plot(X, model.predict(X), 'r--', label=\"Scikit-Learn\")\n",
    "plt.plot(X, weight * X + bias, 'g-', label=\"Manual GD\")\n",
    "plt.title(\"\")\n",
    "plt.xlabel(\"Distance (km)\")\n",
    "plt.ylabel(\"Fuel (liters)\")\n",
    "plt.legend()\n",
    "\n",
    "plt.tight_layout()\n",
    "\n",
    "\n",
    "\n",
    "\n",
    "plt.show()"
   ]
  },
  {
   "cell_type": "code",
   "execution_count": null,
   "id": "08c6b02a",
   "metadata": {},
   "outputs": [],
   "source": []
  },
  {
   "cell_type": "code",
   "execution_count": null,
   "id": "5c0d5992-e0bb-4912-b916-abc756e79b28",
   "metadata": {},
   "outputs": [],
   "source": []
  }
 ],
 "metadata": {
  "kernelspec": {
   "display_name": "Python 3 (ipykernel)",
   "language": "python",
   "name": "python3"
  },
  "language_info": {
   "codemirror_mode": {
    "name": "ipython",
    "version": 3
   },
   "file_extension": ".py",
   "mimetype": "text/x-python",
   "name": "python",
   "nbconvert_exporter": "python",
   "pygments_lexer": "ipython3",
   "version": "3.13.2"
  }
 },
 "nbformat": 4,
 "nbformat_minor": 5
}
