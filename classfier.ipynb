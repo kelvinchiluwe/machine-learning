{
 "cells": [
  {
   "cell_type": "code",
   "execution_count": 11,
   "id": "6aa48f22-3a2b-4515-bb09-d16eab8506be",
   "metadata": {},
   "outputs": [
    {
     "name": "stdout",
     "output_type": "stream",
     "text": [
      " is [1]\n",
      "Classification Metrics:\n",
      "Accuracy: 0.00\n",
      "Precision: 0.00\n",
      "Recall: 1.00\n"
     ]
    }
   ],
   "source": [
    "import matplotlib.pyplot as plt\n",
    "# import seaborn as sns\n",
    "import pandas as pd\n",
    "from sklearn.model_selection import train_test_split\n",
    "from sklearn.ensemble import RandomForestClassifier\n",
    "from sklearn.metrics import accuracy_score, precision_score, recall_score\n",
    "\n",
    "class Animal:\n",
    "    def __init__(self, name, age, breed, health_status, species):\n",
    "        self.name = name\n",
    "        self.age = age\n",
    "        self.breed = breed\n",
    "        self.health_status = health_status\n",
    "        self.species = species\n",
    "\n",
    "class PetShelter:\n",
    "    def __init__(self):\n",
    "        self.animals = []\n",
    "\n",
    "    def add_animal(self, animal):\n",
    "        self.animals.append(animal)\n",
    "\n",
    "    def remove_animal(self, name):\n",
    "        self.animals = [animal for animal in self.animals if animal.name != name]\n",
    "\n",
    "    def view_animals(self):\n",
    "        for animal in self.animals:\n",
    "            print(f\"{animal.name}: {animal.species}, {animal.breed}, Age: {animal.age}, Health: {animal.health_status}\")\n",
    "\n",
    "    def get_data_frame(self):\n",
    "        return pd.DataFrame([vars(animal) for animal in self.animals])\n",
    "\n",
    "shelter = PetShelter()\n",
    "shelter.add_animal(Animal(\"Max\", 3, \"Golden Retriever\", \"Healthy\", \"Dog\"))\n",
    "shelter.add_animal(Animal(\"Whiskers\", 2, \"Siamese\", \"Sick\", \"Cat\"))\n",
    "shelter.add_animal(Animal(\"Buddy\", 4, \"Labrador\", \"Healthy\", \"Dog\"))\n",
    "shelter.add_animal(Animal(\"Mittens\", 5, \"Persian\", \"Healthy\", \"Cat\"))\n",
    "\n",
    "\n",
    "df = shelter.get_data_frame()\n",
    "df['species'] = df['species'].map({\"Dog\": 0, \"Cat\": 1})\n",
    "df['health_status'] = df['health_status'].map({\"Healthy\": 1, \"Sick\": 0})\n",
    "\n",
    "X = df[['age', 'species']]\n",
    "y = df['health_status']\n",
    "X_train, X_test, y_train, y_test = train_test_split(X, y, test_size=0.2, random_state=42)\n",
    "model = RandomForestClassifier()\n",
    "model.fit(X_train, y_train)\n",
    "\n",
    "y_pred = model.predict(X_test)\n",
    "print(f' is {y_pred}')\n",
    "\n",
    "accuracy = accuracy_score(y_test, y_pred)\n",
    "precision = precision_score(y_test, y_pred)\n",
    "recall = recall_score(y_test, y_pred, zero_division=1)\n",
    "\n",
    "\n",
    "print(f\"Classification Metrics:\\nAccuracy: {accuracy:.2f}\\nPrecision: {precision:.2f}\\nRecall: {recall:.2f}\")"
   ]
  },
  {
   "cell_type": "code",
   "execution_count": 12,
   "id": "6d752989-ed17-482f-920f-7206db41a32b",
   "metadata": {},
   "outputs": [],
   "source": [
    "import seaborn as sns"
   ]
  },
  {
   "cell_type": "code",
   "execution_count": 15,
   "id": "25a7808c-750d-42d4-aab0-41883eecf5a6",
   "metadata": {},
   "outputs": [
    {
     "data": {
      "image/png": "[encoded data removed]",
      "text/plain": [
       "<Figure size 640x480 with 1 Axes>"
      ]
     },
     "metadata": {},
     "output_type": "display_data"
    }
   ],
   "source": [
    "sns.countplot(x=df['species'],hue=df['health_status'])\n",
    "plt.xlabel('species(cat 1 or dog 0)')\n",
    "plt.ylabel('count')\n",
    "plt.grid(True)\n",
    "plt.show()"
   ]
  },
  {
   "cell_type": "code",
   "execution_count": 16,
   "id": "0b2373e6-2a54-4290-8fe1-609f910f9fe6",
   "metadata": {},
   "outputs": [
    {
     "name": "stdout",
     "output_type": "stream",
     "text": [
      "\n",
      "Pet Shelter System\n",
      "1. Add Pet\n",
      "2. Remove Pet\n",
      "3. View Pets\n",
      "4. Exit\n"
     ]
    },
    {
     "name": "stdin",
     "output_type": "stream",
     "text": [
      "Enter your option:  2\n",
      "Enter the name of the pet to remove:  Max\n"
     ]
    },
    {
     "name": "stdout",
     "output_type": "stream",
     "text": [
      "Max has been removed.\n",
      "\n",
      "Pet Shelter System\n",
      "1. Add Pet\n",
      "2. Remove Pet\n",
      "3. View Pets\n",
      "4. Exit\n"
     ]
    },
    {
     "name": "stdin",
     "output_type": "stream",
     "text": [
      "Enter your option:  3\n"
     ]
    },
    {
     "name": "stdout",
     "output_type": "stream",
     "text": [
      "\n",
      "Current Pets in Shelter:\n",
      "Whiskers: Cat, Siamese, Age: 2, Health: Sick\n",
      "Buddy: Dog, Labrador, Age: 4, Health: Healthy\n",
      "Mittens: Cat, Persian, Age: 5, Health: Healthy\n",
      "\n",
      "Pet Shelter System\n",
      "1. Add Pet\n",
      "2. Remove Pet\n",
      "3. View Pets\n",
      "4. Exit\n"
     ]
    },
    {
     "name": "stdin",
     "output_type": "stream",
     "text": [
      "Enter your option:  4\n"
     ]
    },
    {
     "name": "stdout",
     "output_type": "stream",
     "text": [
      "Exiting...\n"
     ]
    }
   ],
   "source": [
    "while True:\n",
    "    print(\"\\nPet Shelter System\")\n",
    "    print(\"1. Add Pet\")\n",
    "    print(\"2. Remove Pet\")\n",
    "    print(\"3. View Pets\")\n",
    "    print(\"4. Exit\")\n",
    "\n",
    "    try:\n",
    "        option = int(input(\"Enter your option: \"))\n",
    "\n",
    "        if option == 1:\n",
    "            name = input(\"Enter pet's name: \")\n",
    "            age = int(input(\"Enter pet's age: \"))\n",
    "            breed = input(\"Enter pet's breed: \")\n",
    "            health_status = input(\"Enter pet's health status (Healthy/Sick): \")\n",
    "            species = input(\"Enter pet's species (Dog/Cat): \")\n",
    "            \n",
    "            shelter.add_animal(Animal(name, age, breed, health_status, species))\n",
    "            print(f\"{name} has been added to the shelter!\")\n",
    "\n",
    "        elif option == 2:\n",
    "            name = input(\"Enter the name of the pet to remove: \")\n",
    "            shelter.remove_animal(name)\n",
    "            print(f\"{name} has been removed.\")\n",
    "\n",
    "        elif option == 3:\n",
    "            print(\"\\nCurrent Pets in Shelter:\")\n",
    "            shelter.view_animals()\n",
    "\n",
    "        elif option == 4:\n",
    "            print(\"Exiting...\")\n",
    "            break\n",
    "\n",
    "        else:\n",
    "            print(\"Invalid option. Please choose a valid number.\")\n",
    "\n",
    "    except ValueError:\n",
    "        print(\"Please enter a valid numeric option.\")\n"
   ]
  },
  {
   "cell_type": "code",
   "execution_count": 17,
   "id": "345ee853-cb8d-4ee8-8673-4416d41d7f3a",
   "metadata": {},
   "outputs": [
    {
     "name": "stdout",
     "output_type": "stream",
     "text": [
      "       name  age             breed  health_status  species\n",
      "0       Max    3  Golden Retriever              1        0\n",
      "1  Whiskers    2           Siamese              0        1\n",
      "2     Buddy    4          Labrador              1        0\n",
      "3   Mittens    5           Persian              1        1\n"
     ]
    }
   ],
   "source": [
    "print(df)"
   ]
  },
  {
   "cell_type": "code",
   "execution_count": null,
   "id": "2d493dbe-917e-4908-b58f-e0514452334d",
   "metadata": {},
   "outputs": [],
   "source": []
  }
 ],
 "metadata": {
  "kernelspec": {
   "display_name": "Python 3 (ipykernel)",
   "language": "python",
   "name": "python3"
  },
  "language_info": {
   "codemirror_mode": {
    "name": "ipython",
    "version": 3
   },
   "file_extension": ".py",
   "mimetype": "text/x-python",
   "name": "python",
   "nbconvert_exporter": "python",
   "pygments_lexer": "ipython3",
   "version": "3.13.2"
  }
 },
 "nbformat": 4,
 "nbformat_minor": 5
}
