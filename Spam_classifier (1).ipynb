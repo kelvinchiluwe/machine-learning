{
  "nbformat": 4,
  "nbformat_minor": 0,
  "metadata": {
    "colab": {
      "provenance": []
    },
    "kernelspec": {
      "name": "python3",
      "display_name": "Python 3"
    },
    "language_info": {
      "name": "python"
    }
  },
  "cells": [
    {
      "cell_type": "code",
      "execution_count": 7,
      "metadata": {
        "colab": {
          "base_uri": "https://localhost:8080/"
        },
        "collapsed": true,
        "id": "hsY6a2J3WFWP",
        "outputId": "6c0c2117-64b9-465c-8555-4df438e4f583"
      },
      "outputs": [
        {
          "output_type": "stream",
          "name": "stdout",
          "text": [
            "Requirement already satisfied: pandas in /usr/local/lib/python3.11/dist-packages (2.2.2)\n",
            "Requirement already satisfied: scikit-learn in /usr/local/lib/python3.11/dist-packages (1.6.1)\n",
            "Requirement already satisfied: matplotlib in /usr/local/lib/python3.11/dist-packages (3.10.0)\n",
            "Requirement already satisfied: numpy>=1.23.2 in /usr/local/lib/python3.11/dist-packages (from pandas) (2.0.2)\n",
            "Requirement already satisfied: python-dateutil>=2.8.2 in /usr/local/lib/python3.11/dist-packages (from pandas) (2.9.0.post0)\n",
            "Requirement already satisfied: pytz>=2020.1 in /usr/local/lib/python3.11/dist-packages (from pandas) (2025.2)\n",
            "Requirement already satisfied: tzdata>=2022.7 in /usr/local/lib/python3.11/dist-packages (from pandas) (2025.2)\n",
            "Requirement already satisfied: scipy>=1.6.0 in /usr/local/lib/python3.11/dist-packages (from scikit-learn) (1.15.2)\n",
            "Requirement already satisfied: joblib>=1.2.0 in /usr/local/lib/python3.11/dist-packages (from scikit-learn) (1.4.2)\n",
            "Requirement already satisfied: threadpoolctl>=3.1.0 in /usr/local/lib/python3.11/dist-packages (from scikit-learn) (3.6.0)\n",
            "Requirement already satisfied: contourpy>=1.0.1 in /usr/local/lib/python3.11/dist-packages (from matplotlib) (1.3.2)\n",
            "Requirement already satisfied: cycler>=0.10 in /usr/local/lib/python3.11/dist-packages (from matplotlib) (0.12.1)\n",
            "Requirement already satisfied: fonttools>=4.22.0 in /usr/local/lib/python3.11/dist-packages (from matplotlib) (4.57.0)\n",
            "Requirement already satisfied: kiwisolver>=1.3.1 in /usr/local/lib/python3.11/dist-packages (from matplotlib) (1.4.8)\n",
            "Requirement already satisfied: packaging>=20.0 in /usr/local/lib/python3.11/dist-packages (from matplotlib) (24.2)\n",
            "Requirement already satisfied: pillow>=8 in /usr/local/lib/python3.11/dist-packages (from matplotlib) (11.2.1)\n",
            "Requirement already satisfied: pyparsing>=2.3.1 in /usr/local/lib/python3.11/dist-packages (from matplotlib) (3.2.3)\n",
            "Requirement already satisfied: six>=1.5 in /usr/local/lib/python3.11/dist-packages (from python-dateutil>=2.8.2->pandas) (1.17.0)\n",
            "Loaded 5572 messages\n",
            "  label                                            message\n",
            "0   ham  Go until jurong point, crazy.. Available only ...\n",
            "1   ham                      Ok lar... Joking wif u oni...\n",
            "2  spam  Free entry in 2 a wkly comp to win FA Cup fina...\n",
            "3   ham  U dun say so early hor... U c already then say...\n",
            "4   ham  Nah I don't think he goes to usf, he lives aro...\n"
          ]
        }
      ],
      "source": [
        "# Install pandas if needed (Google Colab has it preinstalled)\n",
        "!pip install pandas scikit-learn matplotlib\n",
        "\n",
        "import pandas as pd\n",
        "from sklearn.model_selection import train_test_split\n",
        "from sklearn.metrics import classification_report, confusion_matrix\n",
        "from sklearn.feature_extraction.text import TfidfVectorizer\n",
        "from sklearn.linear_model import LogisticRegression\n",
        "import matplotlib.pyplot as plt\n",
        "import io\n",
        "import zipfile\n",
        "import requests\n",
        "\n",
        "# Load dataset\n",
        "url = \"https://archive.ics.uci.edu/ml/machine-learning-databases/00228/smsspamcollection.zip\"\n",
        "\n",
        "# Fetch the content of the URL\n",
        "response = requests.get(url)\n",
        "response.raise_for_status()  # Raise an exception for bad responses\n",
        "\n",
        "# Extract the 'SMSSpamCollection' file from the zip archive\n",
        "with zipfile.ZipFile(io.BytesIO(response.content)) as z:\n",
        "    with z.open('SMSSpamCollection') as f:\n",
        "        df = pd.read_csv(f, sep='\\t', names=['label', 'message'])\n",
        "\n",
        "print(f\"Loaded {len(df)} messages\")\n",
        "print(df.head())"
      ]
    },
    {
      "cell_type": "code",
      "source": [
        "# Convert labels to 0 (ham) and 1 (spam)\n",
        "df['label'] = df['label'].map({'ham': 0, 'spam': 1})\n",
        "\n",
        "# Create TF-IDF features\n",
        "vectorizer = TfidfVectorizer(max_features=3000, stop_words='english')\n",
        "X = vectorizer.fit_transform(df['message'])\n",
        "y = df['label']\n",
        "\n",
        "# Split data\n",
        "X_train, X_test, y_train, y_test = train_test_split(\n",
        "    X, y, test_size=0.2, random_state=42\n",
        ")"
      ],
      "metadata": {
        "id": "ZCD_enqpWYNC"
      },
      "execution_count": 4,
      "outputs": []
    },
    {
      "cell_type": "code",
      "source": [
        "model = LogisticRegression(max_iter=1000)\n",
        "model.fit(X_train, y_train)\n",
        "\n",
        "# Get predicted probabilities\n",
        "y_prob = model.predict_proba(X_test)[:, 1]  # Probability of being spam"
      ],
      "metadata": {
        "id": "efsgkIItW7cv"
      },
      "execution_count": 5,
      "outputs": []
    },
    {
      "cell_type": "code",
      "source": [
        "def evaluate_threshold(threshold):\n",
        "    y_pred = (y_prob >= threshold).astype(int)\n",
        "    print(f\"\\nThreshold: {threshold:.2f}\")\n",
        "    print(classification_report(y_test, y_pred))\n",
        "    print(\"Confusion Matrix:\")\n",
        "    print(confusion_matrix(y_test, y_pred))\n",
        "\n",
        "# Test thresholds\n",
        "for thresh in [0.3, 0.5, 0.7]:\n",
        "    evaluate_threshold(thresh)\n",
        "\n",
        "# Plot precision-recall tradeoff\n",
        "from sklearn.metrics import precision_recall_curve\n",
        "precision, recall, thresholds = precision_recall_curve(y_test, y_prob)\n",
        "plt.plot(thresholds, precision[:-1], label='Precision')\n",
        "plt.plot(thresholds, recall[:-1], label='Recall')\n",
        "plt.xlabel('Threshold')\n",
        "plt.legend()\n",
        "plt.show()"
      ],
      "metadata": {
        "colab": {
          "base_uri": "https://localhost:8080/",
          "height": 1000
        },
        "id": "B-5XeIPdW_ts",
        "outputId": "729a6eb9-db9d-4ac0-94e3-bb23d94f26be"
      },
      "execution_count": 10,
      "outputs": [
        {
          "output_type": "stream",
          "name": "stdout",
          "text": [
            "\n",
            "Threshold: 0.30\n",
            "              precision    recall  f1-score   support\n",
            "\n",
            "           0       0.98      1.00      0.99       966\n",
            "           1       0.99      0.89      0.94       149\n",
            "\n",
            "    accuracy                           0.98      1115\n",
            "   macro avg       0.99      0.94      0.96      1115\n",
            "weighted avg       0.98      0.98      0.98      1115\n",
            "\n",
            "Confusion Matrix:\n",
            "[[965   1]\n",
            " [ 17 132]]\n",
            "\n",
            "Threshold: 0.50\n",
            "              precision    recall  f1-score   support\n",
            "\n",
            "           0       0.97      1.00      0.98       966\n",
            "           1       1.00      0.79      0.88       149\n",
            "\n",
            "    accuracy                           0.97      1115\n",
            "   macro avg       0.98      0.90      0.93      1115\n",
            "weighted avg       0.97      0.97      0.97      1115\n",
            "\n",
            "Confusion Matrix:\n",
            "[[966   0]\n",
            " [ 31 118]]\n",
            "\n",
            "Threshold: 0.70\n",
            "              precision    recall  f1-score   support\n",
            "\n",
            "           0       0.92      1.00      0.96       966\n",
            "           1       1.00      0.44      0.61       149\n",
            "\n",
            "    accuracy                           0.93      1115\n",
            "   macro avg       0.96      0.72      0.79      1115\n",
            "weighted avg       0.93      0.93      0.91      1115\n",
            "\n",
            "Confusion Matrix:\n",
            "[[966   0]\n",
            " [ 83  66]]\n"
          ]
        },
        {
          "output_type": "display_data",
          "data": {
            "text/plain": [
              "<Figure size 640x480 with 1 Axes>"
            ],
            "image/png": "[encoded data removed]"
          },
          "metadata": {}
        }
      ]
    },
    {
      "cell_type": "code",
      "source": [
        "def is_spam(text, threshold=0.5):\n",
        "    # Transform input text\n",
        "    text_vec = vectorizer.transform([text])\n",
        "    prob_spam = model.predict_proba(text_vec)[0][1]\n",
        "\n",
        "    # Decision based on threshold\n",
        "    if prob_spam >= threshold:\n",
        "        return f\"SPAM ({prob_spam:.2%} confidence)\"\n",
        "    else:\n",
        "        return f\"NOT SPAM ({prob_spam:.2%} confidence)\"\n",
        "\n",
        "# Test examples\n",
        "test_emails = [\n",
        "    \"Free iPhone! Click here to claim your prize!\",\n",
        "    \"Hey, lunch tomorrow at 12?\",\n",
        "    \"Your package will arrive Thursday\",\n",
        "    \"Congratulations! You've won $10,000!\"\n",
        "]\n",
        "\n",
        "print(\"\\nTesting Classifier:\")\n",
        "for msg in test_emails:\n",
        "    print(f\"\\n'{msg[:30]}...' => {is_spam(msg)}\")"
      ],
      "metadata": {
        "colab": {
          "base_uri": "https://localhost:8080/"
        },
        "id": "FaYhF9hHXlEC",
        "outputId": "ebe02e6d-ac6d-470d-b8e8-6b2b3616cf38"
      },
      "execution_count": 11,
      "outputs": [
        {
          "output_type": "stream",
          "name": "stdout",
          "text": [
            "\n",
            "Testing Classifier:\n",
            "\n",
            "'Free iPhone! Click here to cla...' => SPAM (78.82% confidence)\n",
            "\n",
            "'Hey, lunch tomorrow at 12?...' => NOT SPAM (4.50% confidence)\n",
            "\n",
            "'Your package will arrive Thurs...' => NOT SPAM (8.27% confidence)\n",
            "\n",
            "'Congratulations! You've won $1...' => NOT SPAM (34.17% confidence)\n"
          ]
        }
      ]
    }
  ]
}