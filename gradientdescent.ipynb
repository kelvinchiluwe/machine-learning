{
 "cells": [
  {
   "cell_type": "code",
   "execution_count": 101,
   "id": "908b6d6f-d19e-44ba-bdaa-0d09ca3a4046",
   "metadata": {},
   "outputs": [],
   "source": [
    "import pandas as pd\n",
    "import numpy as np\n",
    "import matplotlib.pyplot as plt"
   ]
  },
  {
   "cell_type": "code",
   "execution_count": 102,
   "id": "8200f719-3695-4395-993d-428e00494806",
   "metadata": {},
   "outputs": [],
   "source": [
    "data={\n",
    "    'Distance_km':['10km','20km','30km','40','50','60','70','80','100'],\n",
    "    'delivery_time_hrs':['2hr','3hr','4hr','','5hr','6hr','7hr','8hr','9hr']\n",
    "    }\n",
    "df=pd.DataFrame(data)\n"
   ]
  },
  {
   "cell_type": "markdown",
   "id": "c219b932-2831-480f-a81b-f189f9f3ee53",
   "metadata": {},
   "source": [
    "data cleaning"
   ]
  },
  {
   "cell_type": "code",
   "execution_count": 103,
   "id": "fb899d7b-2fef-46a8-807e-c28a1d695267",
   "metadata": {},
   "outputs": [
    {
     "data": {
      "text/plain": [
       "Distance_km          0\n",
       "delivery_time_hrs    0\n",
       "dtype: int64"
      ]
     },
     "execution_count": 103,
     "metadata": {},
     "output_type": "execute_result"
    }
   ],
   "source": [
    "df.isnull().sum()\n"
   ]
  },
  {
   "cell_type": "code",
   "execution_count": 104,
   "id": "30c60346-a232-4931-8c3d-21db6c425116",
   "metadata": {},
   "outputs": [],
   "source": [
    "# df.dropna()\n",
    "# (subset=['delivery_time_hrs'])\n"
   ]
  },
  {
   "cell_type": "code",
   "execution_count": 105,
   "id": "6bbf3242-f021-468a-ab41-84224b037ac3",
   "metadata": {},
   "outputs": [],
   "source": [
    "\n",
    "df['Distance_km']=df['Distance_km'].astype(str).str.replace('km','')\n",
    "df['delivery_time_hrs']=df['delivery_time_hrs'].astype(str).str.replace('hr','')\n",
    "df['delivery_time_hrs'] = pd.to_numeric(df['delivery_time_hrs'], errors='coerce')\n",
    "df.dropna(inplace=True)\n",
    "# kl=df['delivery_time_hrs'].fillna(df['delivery_time_hrs'].mean())\n",
    "# kl"
   ]
  },
  {
   "cell_type": "code",
   "execution_count": 106,
   "id": "23b84771-6543-42db-953e-f9ac8ecfac3f",
   "metadata": {},
   "outputs": [],
   "source": [
    "# print(kl)"
   ]
  },
  {
   "cell_type": "code",
   "execution_count": 107,
   "id": "edfbb81f-8b26-4f79-a666-f9aa72aad4a9",
   "metadata": {},
   "outputs": [],
   "source": [
    "from sklearn.linear_model import LinearRegression"
   ]
  },
  {
   "cell_type": "code",
   "execution_count": 113,
   "id": "cbb11d31-c7b3-4a4f-bd0b-dee370d46c68",
   "metadata": {},
   "outputs": [],
   "source": [
    "\n",
    "X=df[['Distance_km']].values\n",
    "y=df['delivery_time_hrs'].values\n",
    "model=LinearRegression()\n",
    "model.fit(X,y)\n",
    "\n",
    "    \n",
    "def compute_loss(weight,bias,features,actual_value):\n",
    "    predictions = weight*features +bias\n",
    "    return np.mean((actual_value-predictions)**2)\n",
    "\n",
    "    \n",
    "def gradient_descent_step(weight, bias,features,actual_value, learning_rate=0.001):\n",
    "    m = len(features)\n",
    "    weight=float(weight)\n",
    "    # features=float(features)\n",
    "    predictions = weight * features +bias\n",
    "    loss =  actual_value - predictions\n",
    "\n",
    "    ##compute gradients\n",
    "    gradient_weight = (2/m) * np.sum(loss * features)\n",
    "    gradient_bias = (2/m) * np.sum(loss)\n",
    "\n",
    "    weight -= learning_rate * gradient_weight\n",
    "    bias -= learning_rate * gradient_bias\n",
    "    return weight, bias\n"
   ]
  },
  {
   "cell_type": "code",
   "execution_count": 118,
   "id": "43308b27-a17c-45a8-b743-07e5d794a032",
   "metadata": {},
   "outputs": [],
   "source": [
    "\n",
    "\n",
    "# np.random.seed(42)\n",
    "# weight = np.random.rand()\n",
    "# bias = np.random.rand()\n",
    "\n",
    "\n",
    "# loss_history =[]\n",
    "# iterations = 70\n",
    "# learning_rate = 0.0001\n",
    "\n",
    "# for _ in range(iterations):\n",
    "#     weight,bias = gradient_descent_step(weight,bias,X,y, learning_rate)\n",
    "#     loss = compute_loss(weight, bias, X,y)\n",
    "#     loss_history.append(loss)"
   ]
  },
  {
   "cell_type": "code",
   "execution_count": 99,
   "id": "d5d9945e-0e21-4ab2-b3b9-4abcd40ffbfb",
   "metadata": {},
   "outputs": [
    {
     "name": "stdout",
     "output_type": "stream",
     "text": [
      "\n",
      "Predicted fuel consumption for 300 km: 10.80 hrs\n"
     ]
    },
    {
     "name": "stderr",
     "output_type": "stream",
     "text": [
      "C:\\Users\\Student.DESK-13\\AppData\\Local\\Programs\\Python\\Python313\\Lib\\site-packages\\sklearn\\utils\\validation.py:2732: UserWarning: X has feature names, but LinearRegression was fitted without feature names\n",
      "  warnings.warn(\n"
     ]
    }
   ],
   "source": [
    "def prediction():\n",
    "   delivery_time = pd.DataFrame({\"distance_km\": [120]})  \n",
    "   predicted_delivery_time= model.predict(delivery_time)[0]  \n",
    "   print(f\"\\nPredicted fuel consumption for 300 km: {predicted_delivery_time:.2f} hrs\") \n",
    "prediction()"
   ]
  },
  {
   "cell_type": "code",
   "execution_count": 117,
   "id": "fc53939a-3293-4d93-8ec5-9dcc0db75255",
   "metadata": {},
   "outputs": [],
   "source": [
    "# def plot():\n",
    "#     plt.figure(figsize=(12,4))\n",
    "# plt.subplot(1,2,1)\n",
    "# plt.plot(range(iterations), loss_history, color='orange')\n",
    "# plt.title('Loss Curve')\n",
    "# plt.xlabel(\"Iterations\")\n",
    "# plt.ylabel(\"MSE LOSS\")\n"
   ]
  },
  {
   "cell_type": "code",
   "execution_count": 115,
   "id": "8c46221e-d0fb-4f11-a941-57e323230680",
   "metadata": {},
   "outputs": [],
   "source": [
    "import numpy as np\n",
    "\n",
    "def compute_loss(weight, bias, features, actual_value):\n",
    "    predictions = weight * features + bias\n",
    "    return np.mean((actual_value - predictions) ** 2)\n",
    "\n",
    "def gradient_descent_step(weight, bias, features, actual_value, learning_rate=0.001):\n",
    "    m = len(features)\n",
    "    \n",
    "    # Ensure weight and bias are floats\n",
    "    weight = float(weight)\n",
    "    bias = float(bias)\n",
    "    \n",
    "    predictions = weight * features + bias\n",
    "    loss = actual_value - predictions\n",
    "\n",
    "    # Compute gradients\n",
    "    gradient_weight = (2/m) * np.sum(loss * features)\n",
    "    gradient_bias = (2/m) * np.sum(loss)\n",
    "\n",
    "    # Update parameters\n",
    "    weight -= learning_rate * gradient_weight\n",
    "    bias -= learning_rate * gradient_bias\n",
    "\n",
    "    return weight, bias\n"
   ]
  },
  {
   "cell_type": "code",
   "execution_count": null,
   "id": "789c4a63-0ac1-483d-88ec-7997f68424cd",
   "metadata": {},
   "outputs": [],
   "source": []
  }
 ],
 "metadata": {
  "kernelspec": {
   "display_name": "Python 3 (ipykernel)",
   "language": "python",
   "name": "python3"
  },
  "language_info": {
   "codemirror_mode": {
    "name": "ipython",
    "version": 3
   },
   "file_extension": ".py",
   "mimetype": "text/x-python",
   "name": "python",
   "nbconvert_exporter": "python",
   "pygments_lexer": "ipython3",
   "version": "3.13.2"
  }
 },
 "nbformat": 4,
 "nbformat_minor": 5
}
