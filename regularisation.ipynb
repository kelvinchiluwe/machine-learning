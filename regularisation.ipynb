{
 "cells": [
  {
   "cell_type": "code",
   "execution_count": 2,
   "id": "eadc1086-d028-4985-b7aa-c46803b71fc0",
   "metadata": {},
   "outputs": [],
   "source": [
    "import pandas as pd\n",
    "import matplotlib.pyplot as plt\n",
    "import numpy as np"
   ]
  },
  {
   "cell_type": "code",
   "execution_count": null,
   "id": "d55f88cb-d954-4a1f-9193-7231e131590f",
   "metadata": {},
   "outputs": [],
   "source": []
  },
  {
   "cell_type": "code",
   "execution_count": 3,
   "id": "5f17a9d9-2db7-4705-b317-a0c40333d948",
   "metadata": {},
   "outputs": [],
   "source": [
    "df =pd.read_csv(\"https://raw.githubusercontent.com/jbrownlee/Datasets/master/pima-indians-diabetes.data.csv\", header=None)\n"
   ]
  },
  {
   "cell_type": "code",
   "execution_count": 4,
   "id": "3989919e-4a2c-45ed-b654-c347be38b1c0",
   "metadata": {},
   "outputs": [
    {
     "data": {
      "text/plain": [
       "<bound method NDFrame.sample of       0    1   2   3    4     5      6   7  8\n",
       "0     6  148  72  35    0  33.6  0.627  50  1\n",
       "1     1   85  66  29    0  26.6  0.351  31  0\n",
       "2     8  183  64   0    0  23.3  0.672  32  1\n",
       "3     1   89  66  23   94  28.1  0.167  21  0\n",
       "4     0  137  40  35  168  43.1  2.288  33  1\n",
       "..   ..  ...  ..  ..  ...   ...    ...  .. ..\n",
       "763  10  101  76  48  180  32.9  0.171  63  0\n",
       "764   2  122  70  27    0  36.8  0.340  27  0\n",
       "765   5  121  72  23  112  26.2  0.245  30  0\n",
       "766   1  126  60   0    0  30.1  0.349  47  1\n",
       "767   1   93  70  31    0  30.4  0.315  23  0\n",
       "\n",
       "[768 rows x 9 columns]>"
      ]
     },
     "execution_count": 4,
     "metadata": {},
     "output_type": "execute_result"
    }
   ],
   "source": [
    "df.sample"
   ]
  },
  {
   "cell_type": "code",
   "execution_count": 5,
   "id": "244043eb-26d6-4d94-85e7-e134aa1fb523",
   "metadata": {},
   "outputs": [],
   "source": [
    "X=df[[0,1,2,3,4,5,6,7]]\n",
    "y=df[8]"
   ]
  },
  {
   "cell_type": "code",
   "execution_count": 6,
   "id": "c047fe41-f01c-4a3e-886d-483349951eae",
   "metadata": {},
   "outputs": [
    {
     "data": {
      "text/plain": [
       "(768, 8)"
      ]
     },
     "execution_count": 6,
     "metadata": {},
     "output_type": "execute_result"
    }
   ],
   "source": [
    "X.shape"
   ]
  },
  {
   "cell_type": "code",
   "execution_count": 7,
   "id": "f704f1d9-a1ab-43c6-b73a-e88578cc486a",
   "metadata": {},
   "outputs": [],
   "source": [
    "X=(X-X.mean())/X.std()"
   ]
  },
  {
   "cell_type": "code",
   "execution_count": 8,
   "id": "9a185cc3-bb35-4380-8623-88c7ae063a77",
   "metadata": {},
   "outputs": [],
   "source": [
    "# class diabetes:\n",
    "#     def __init__(self,learning_rate=0.01,lambda_rate=0.01):\n",
    "#         self.learning_rate=learning_rate\n",
    "#         self.lambda_rate=lambda_rate\n",
    "#         self.weight=None\n",
    "#         self.bias=None\n",
    "#         self.loss=[]\n",
    "#         self.Epochs=None\n",
    "\n",
    "    \n",
    "    \n",
    "    \n",
    "#     def fit(self,X,y):\n",
    "#         X.shape\n",
    "#         m=len(X)\n",
    "#         z=self._log_odds(X,y)\n",
    "#         y_predict=self.sigmoid(z)\n",
    "#         error=y_predict - y\n",
    "#         gradient_weight=(1/m) * np.dot(X,error)\n",
    "#         gradient_bias=(1/m) * np.sum(error)\n",
    "\n",
    "#         gradient_weight += 2 * self.lambda_rate *self.weight\n",
    "\n",
    "#         self.weight -= learning_rate * gradient_weight\n",
    "#         self.bias -= learning_rate * gradient_bias\n",
    "#         return self.weight,self.bias\n",
    "\n",
    "#         np.random.seed(42)\n",
    "#         self.weight=np.random.randn(X.shape[-1])\n",
    "#         self.bias=np.random.randn()\n",
    "#         self.Epochs=1000\n",
    "#         # self.loss=[]\n",
    "\n",
    "#         for epochs in range(self.Epochs):\n",
    "#             z=_log_odds(X,y)\n",
    "#             y_predict=sigmoid(z)\n",
    "#             loss =  - np.mean(y*np.log(y_predict+(1-y)*np.log(1-y_predict)))\n",
    "#             penalty=self.lambda_rate *self.weight**2\n",
    "#             loss=loss +  penalty\n",
    "#             self.losses.append(loss)\n",
    "#             # losses=-np.mean()     \n",
    "            \n",
    "            \n",
    "#     def _log_odds(self,X,y):\n",
    "#         return np.dot(X,self.weight) + self.bias\n",
    "#     def sigmoid(self,z):\n",
    "#         return 1/(1 + np.exp(-z))"
   ]
  },
  {
   "cell_type": "code",
   "execution_count": 13,
   "id": "4388b48e-a2f7-47c5-931e-8d0393f26adb",
   "metadata": {},
   "outputs": [],
   "source": [
    "# model = diabetes()\n",
    "# model.fit(X,y)"
   ]
  },
  {
   "cell_type": "code",
   "execution_count": 23,
   "id": "55d81e7b-999e-4919-b244-209e942c4347",
   "metadata": {},
   "outputs": [],
   "source": [
    "import numpy as np\n",
    "\n",
    "class diabetesi:\n",
    "    def __init__(self, learning_rate=0.01, lambda_rate=0.001):\n",
    "        self.learning_rate = learning_rate\n",
    "        self.lambda_rate = lambda_rate\n",
    "        self.weight = None\n",
    "        self.bias = None\n",
    "        self.losses = []  # Fixed\n",
    "        self.Epochs = None\n",
    "        \n",
    "    def _log_odds(self, X, y):\n",
    "        return np.dot(self.weight, X.T) + self.bias\n",
    "\n",
    "    def sigmoid(self, z):\n",
    "        return 1 / (1 + np.exp(-z))\n",
    "\n",
    "    def fit(self, X, y):\n",
    "        np.random.seed(42)\n",
    "        self.weight = np.random.randn(X.shape[-1])\n",
    "        self.bias = np.random.randn()\n",
    "        self.Epochs = 10000\n",
    "\n",
    "        m = len(X)\n",
    "        for _ in range(self.Epochs):\n",
    "            z = self._log_odds(X,y)  # Fixed\n",
    "            y_predict = self.sigmoid(z)  # Fixed\n",
    "            error = y_predict - y\n",
    "\n",
    "            gradient_weight = (1 / m) * np.dot(X.T, error)\n",
    "            gradient_bias = (1 / m) * np.sum(error)\n",
    "\n",
    "            gradient_weight += 2 * self.lambda_rate * self.weight\n",
    "\n",
    "            self.weight -= self.learning_rate * gradient_weight  # Fixed\n",
    "            self.bias -= self.learning_rate * gradient_bias  # Fixed\n",
    "            loss = -np.mean(y * np.log(y_predict) + (1 - y) * np.log(1 - y_predict))  # Fixed\n",
    "            penalty = self.lambda_rate * np.sum(self.weight**2)\n",
    "            loss += penalty\n",
    "            self.losses.append(loss)"
   ]
  },
  {
   "cell_type": "code",
   "execution_count": 24,
   "id": "21da7300-36db-4323-b62f-efd923159040",
   "metadata": {},
   "outputs": [],
   "source": [
    "model = diabetesi()\n",
    "model.fit(X,y)"
   ]
  },
  {
   "cell_type": "code",
   "execution_count": 25,
   "id": "c4b8dd10-f237-4299-a7da-19977f58719f",
   "metadata": {},
   "outputs": [
    {
     "data": {
      "image/png": "[encoded data removed]",
      "text/plain": [
       "<Figure size 640x480 with 1 Axes>"
      ]
     },
     "metadata": {},
     "output_type": "display_data"
    }
   ],
   "source": [
    "plt.plot(model.losses,color='green')\n",
    "plt.xlabel('epochs')\n",
    "plt.ylabel('losses')\n",
    "plt.title('crossentropy curve')\n",
    "plt.grid(True)\n",
    "plt.show()"
   ]
  },
  {
   "cell_type": "code",
   "execution_count": null,
   "id": "ad1947fc-ef36-48dd-913c-3dada6ffbae5",
   "metadata": {},
   "outputs": [],
   "source": []
  }
 ],
 "metadata": {
  "kernelspec": {
   "display_name": "Python 3 (ipykernel)",
   "language": "python",
   "name": "python3"
  },
  "language_info": {
   "codemirror_mode": {
    "name": "ipython",
    "version": 3
   },
   "file_extension": ".py",
   "mimetype": "text/x-python",
   "name": "python",
   "nbconvert_exporter": "python",
   "pygments_lexer": "ipython3",
   "version": "3.13.2"
  }
 },
 "nbformat": 4,
 "nbformat_minor": 5
}
